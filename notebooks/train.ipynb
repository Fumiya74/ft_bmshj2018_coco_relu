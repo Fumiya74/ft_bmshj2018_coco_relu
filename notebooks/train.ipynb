{
 "cells": [
  {
   "cell_type": "markdown",
   "metadata": {
    "id": "BQi0owF1E2g7"
   },
   "source": [
    "## Google Drive のマウント"
   ]
  },
  {
   "cell_type": "code",
   "execution_count": 1,
   "metadata": {
    "colab": {
     "base_uri": "https://localhost:8080/"
    },
    "executionInfo": {
     "elapsed": 23083,
     "status": "ok",
     "timestamp": 1757147452725,
     "user": {
      "displayName": "松澤郁哉",
      "userId": "14979795561121983433"
     },
     "user_tz": -540
    },
    "id": "vbIiRD7Pjz3d",
    "outputId": "2524269e-87de-4d7d-e6ca-463e1a2511a8"
   },
   "outputs": [
    {
     "name": "stdout",
     "output_type": "stream",
     "text": [
      "Mounted at /content/drive\n"
     ]
    }
   ],
   "source": [
    "from google.colab import drive\n",
    "drive.mount('/content/drive')"
   ]
  },
  {
   "cell_type": "markdown",
   "metadata": {
    "id": "0XF8k_rJFCKU"
   },
   "source": [
    "## Github リポジトリのクローン"
   ]
  },
  {
   "cell_type": "code",
   "execution_count": 2,
   "metadata": {
    "colab": {
     "base_uri": "https://localhost:8080/"
    },
    "executionInfo": {
     "elapsed": 1211,
     "status": "ok",
     "timestamp": 1757147453939,
     "user": {
      "displayName": "松澤郁哉",
      "userId": "14979795561121983433"
     },
     "user_tz": -540
    },
    "id": "FB8b6wtzj9q0",
    "outputId": "bc43a03a-1ce8-4d35-b35e-a956cb547d86"
   },
   "outputs": [
    {
     "name": "stdout",
     "output_type": "stream",
     "text": [
      "Cloning into 'ft_bmshj2018_coco_relu'...\n",
      "remote: Enumerating objects: 69, done.\u001b[K\n",
      "remote: Counting objects: 100% (69/69), done.\u001b[K\n",
      "remote: Compressing objects: 100% (50/50), done.\u001b[K\n",
      "remote: Total 69 (delta 43), reused 44 (delta 18), pack-reused 0 (from 0)\u001b[K\n",
      "Receiving objects: 100% (69/69), 25.19 KiB | 12.60 MiB/s, done.\n",
      "Resolving deltas: 100% (43/43), done.\n",
      "/content/ft_bmshj2018_coco_relu\n"
     ]
    }
   ],
   "source": [
    "!git clone https://github.com/Fumiya74/ft_bmshj2018_coco_relu.git\n",
    "%cd /content/ft_bmshj2018_coco_relu"
   ]
  },
  {
   "cell_type": "markdown",
   "metadata": {
    "id": "P16wgt0XNIdS"
   },
   "source": [
    "### ※ランタイム中にリモートリポジトリの変更したときに実行"
   ]
  },
  {
   "cell_type": "code",
   "execution_count": 19,
   "metadata": {
    "colab": {
     "base_uri": "https://localhost:8080/"
    },
    "executionInfo": {
     "elapsed": 920,
     "status": "ok",
     "timestamp": 1757152037877,
     "user": {
      "displayName": "松澤郁哉",
      "userId": "14979795561121983433"
     },
     "user_tz": -540
    },
    "id": "_oG6FqSZNit-",
    "outputId": "d98c99b9-abd7-49bf-b1a2-c56bdd0dd756"
   },
   "outputs": [
    {
     "name": "stdout",
     "output_type": "stream",
     "text": [
      "remote: Enumerating objects: 7, done.\u001b[K\n",
      "remote: Counting objects:  14% (1/7)\u001b[K\rremote: Counting objects:  28% (2/7)\u001b[K\rremote: Counting objects:  42% (3/7)\u001b[K\rremote: Counting objects:  57% (4/7)\u001b[K\rremote: Counting objects:  71% (5/7)\u001b[K\rremote: Counting objects:  85% (6/7)\u001b[K\rremote: Counting objects: 100% (7/7)\u001b[K\rremote: Counting objects: 100% (7/7), done.\u001b[K\n",
      "remote: Compressing objects: 100% (1/1)\u001b[K\rremote: Compressing objects: 100% (1/1), done.\u001b[K\n",
      "remote: Total 4 (delta 3), reused 4 (delta 3), pack-reused 0 (from 0)\u001b[K\n",
      "Unpacking objects:  25% (1/4)\rUnpacking objects:  50% (2/4)\rUnpacking objects:  75% (3/4)\rUnpacking objects: 100% (4/4)\rUnpacking objects: 100% (4/4), 371 bytes | 371.00 KiB/s, done.\n",
      "From https://github.com/Fumiya74/ft_bmshj2018_coco_relu\n",
      " * branch            main       -> FETCH_HEAD\n",
      "   6328056..8792aec  main       -> origin/main\n",
      "Updating 6328056..8792aec\n",
      "Fast-forward\n",
      " src/train_finetune_relu.py | 4 \u001b[32m++\u001b[m\u001b[31m--\u001b[m\n",
      " 1 file changed, 2 insertions(+), 2 deletions(-)\n"
     ]
    }
   ],
   "source": [
    "!git pull origin main"
   ]
  },
  {
   "cell_type": "markdown",
   "metadata": {
    "id": "ziqVXE-kFbeF"
   },
   "source": [
    "## データセットの準備\n",
    "Google Drive やWebページからzipファイルをColabランタイム上にダウンロードして解凍する"
   ]
  },
  {
   "cell_type": "code",
   "execution_count": 3,
   "metadata": {
    "colab": {
     "base_uri": "https://localhost:8080/"
    },
    "executionInfo": {
     "elapsed": 125505,
     "status": "ok",
     "timestamp": 1757147579455,
     "user": {
      "displayName": "松澤郁哉",
      "userId": "14979795561121983433"
     },
     "user_tz": -540
    },
    "id": "z80Tf0eTlKR6",
    "outputId": "0c9b04be-0655-4216-c555-72ffd8e665ac"
   },
   "outputs": [
    {
     "name": "stdout",
     "output_type": "stream",
     "text": [
      "/content/dataを作成します\n",
      "coco224.zipコピー中\n",
      "解凍中\n",
      "✅ Colabランタイムに全て解凍されました\n"
     ]
    }
   ],
   "source": [
    "import shutil\n",
    "import zipfile\n",
    "import os\n",
    "from tqdm import tqdm\n",
    "\n",
    "drive_train_dir = '/content/drive/MyDrive/datasets'\n",
    "local_train_dir = '/content/data'\n",
    "\n",
    "print(f\"{local_train_dir}を作成します\")\n",
    "os.makedirs(local_train_dir, exist_ok=True)\n",
    "\n",
    "# Colabにコピーして解凍\n",
    "zip_filename = \"coco224.zip\"\n",
    "zip_path_drive = os.path.join(drive_train_dir, zip_filename)\n",
    "zip_path_local = os.path.join('/content', zip_filename)\n",
    "\n",
    "# コピー\n",
    "if not os.path.exists(zip_path_drive):\n",
    "    print(f\"❌ Drive上に {zip_filename} がありません。スキップします。\")\n",
    "\n",
    "print(f\"{zip_filename}コピー中\")\n",
    "shutil.copy(zip_path_drive, zip_path_local)\n",
    "\n",
    "# 解凍\n",
    "print(\"解凍中\")\n",
    "with zipfile.ZipFile(zip_path_local, 'r') as zipf:\n",
    "    zipf.extractall(local_train_dir)\n",
    "\n",
    "\n",
    "print(\"✅ Colabランタイムに全て解凍されました\")"
   ]
  },
  {
   "cell_type": "markdown",
   "metadata": {
    "id": "xcE5u42QF4-i"
   },
   "source": [
    "## 仮想環境セットアップ\n",
    "これはやらなくてもいいことが多いが、Colabランタイムのライブラリとの依存関係が解決できない場合は行う。"
   ]
  },
  {
   "cell_type": "code",
   "execution_count": 4,
   "metadata": {
    "colab": {
     "base_uri": "https://localhost:8080/"
    },
    "executionInfo": {
     "elapsed": 203865,
     "status": "ok",
     "timestamp": 1757147783323,
     "user": {
      "displayName": "松澤郁哉",
      "userId": "14979795561121983433"
     },
     "user_tz": -540
    },
    "id": "vM6HuPjOldnB",
    "outputId": "3f1da260-ba07-4021-a2bd-162f958f070a"
   },
   "outputs": [
    {
     "name": "stdout",
     "output_type": "stream",
     "text": [
      "\u001b[?25l   \u001b[90m━━━━━━━━━━━━━━━━━━━━━━━━━━━━━━━━━━━━━━━━\u001b[0m \u001b[32m0.0/6.0 MB\u001b[0m \u001b[31m?\u001b[0m eta \u001b[36m-:--:--\u001b[0m\r\u001b[2K   \u001b[91m━━━━━━━━━━━━━━━━━━━━━━━━━━━━━━━━━━━\u001b[0m\u001b[91m╸\u001b[0m\u001b[90m━━━━\u001b[0m \u001b[32m5.4/6.0 MB\u001b[0m \u001b[31m161.0 MB/s\u001b[0m eta \u001b[36m0:00:01\u001b[0m\r\u001b[2K   \u001b[90m━━━━━━━━━━━━━━━━━━━━━━━━━━━━━━━━━━━━━━━━\u001b[0m \u001b[32m6.0/6.0 MB\u001b[0m \u001b[31m95.7 MB/s\u001b[0m eta \u001b[36m0:00:00\u001b[0m\n",
      "\u001b[?25h\u001b[?25l   \u001b[90m━━━━━━━━━━━━━━━━━━━━━━━━━━━━━━━━━━━━━━━━\u001b[0m \u001b[32m0.0/469.0 kB\u001b[0m \u001b[31m?\u001b[0m eta \u001b[36m-:--:--\u001b[0m\r\u001b[2K   \u001b[90m━━━━━━━━━━━━━━━━━━━━━━━━━━━━━━━━━━━━━━━━\u001b[0m \u001b[32m469.0/469.0 kB\u001b[0m \u001b[31m39.5 MB/s\u001b[0m eta \u001b[36m0:00:00\u001b[0m\n",
      "\u001b[?25hcreated virtual environment CPython3.12.11.final.0-64 in 340ms\n",
      "  creator CPython3Posix(dest=/content/ftenv, clear=False, no_vcs_ignore=False, global=False)\n",
      "  seeder FromAppData(download=False, pip=bundle, via=copy, app_data_dir=/root/.local/share/virtualenv)\n",
      "    added seed packages: pip==25.2\n",
      "  activators BashActivator,CShellActivator,FishActivator,NushellActivator,PowerShellActivator,PythonActivator\n"
     ]
    }
   ],
   "source": [
    "# クリーンに作り直したい場合は次を有効化\n",
    "!rm -rf /content/ftenv\n",
    "\n",
    "# virtualenv で隔離環境を作成\n",
    "%pip -q install -U virtualenv\n",
    "!python -m virtualenv /content/ftenv\n",
    "\n",
    "# venv の pip で必要物をインストール（CompressAIは numpy<2.0 必須）\n",
    "!/content/ftenv/bin/pip -q install -U pip\n",
    "!/content/ftenv/bin/pip -q install \"numpy==1.26.4\"\n",
    "# T4 でまずは cu121（合わなければ後で cu124 に変更）\n",
    "!/content/ftenv/bin/pip -q install torch==2.3.1 torchvision==0.18.1 --index-url https://download.pytorch.org/whl/cu121\n",
    "!/content/ftenv/bin/pip -q install compressai==1.2.7 pytorch-msssim==1.0.0 wandb"
   ]
  },
  {
   "cell_type": "markdown",
   "metadata": {
    "id": "USwh_L_zGi7F"
   },
   "source": [
    "## AI学習ログ可視化ツールWandBの設定"
   ]
  },
  {
   "cell_type": "code",
   "execution_count": null,
   "metadata": {
    "colab": {
     "base_uri": "https://localhost:8080/"
    },
    "executionInfo": {
     "elapsed": 7033,
     "status": "ok",
     "timestamp": 1757147790353,
     "user": {
      "displayName": "松澤郁哉",
      "userId": "14979795561121983433"
     },
     "user_tz": -540
    },
    "id": "pjdJPZC2ljCR",
    "outputId": "dd9ce5d6-62d0-44a6-db37-5c322a4d1eb3"
   },
   "outputs": [
    {
     "name": "stderr",
     "output_type": "stream",
     "text": [
      "/usr/local/lib/python3.12/dist-packages/notebook/notebookapp.py:191: SyntaxWarning: invalid escape sequence '\\/'\n",
      "  | |_| | '_ \\/ _` / _` |  _/ -_)\n",
      "\u001b[34m\u001b[1mwandb\u001b[0m: \u001b[33mWARNING\u001b[0m If you're specifying your api key in code, ensure this code is not shared publicly.\n",
      "\u001b[34m\u001b[1mwandb\u001b[0m: \u001b[33mWARNING\u001b[0m Consider setting the WANDB_API_KEY environment variable, or running `wandb login` from the command line.\n",
      "\u001b[34m\u001b[1mwandb\u001b[0m: No netrc file found, creating one.\n",
      "\u001b[34m\u001b[1mwandb\u001b[0m: Appending key for api.wandb.ai to your netrc file: /root/.netrc\n",
      "\u001b[34m\u001b[1mwandb\u001b[0m: Currently logged in as: \u001b[33mf-matsuzawa719\u001b[0m to \u001b[32mhttps://api.wandb.ai\u001b[0m. Use \u001b[1m`wandb login --relogin`\u001b[0m to force relogin\n"
     ]
    },
    {
     "name": "stdout",
     "output_type": "stream",
     "text": [
      "\u001b[34m\u001b[1mwandb\u001b[0m: Currently logged in as: \u001b[33mf-matsuzawa719\u001b[0m to \u001b[32mhttps://api.wandb.ai\u001b[0m. Use \u001b[1m`wandb login --relogin`\u001b[0m to force relogin\n"
     ]
    }
   ],
   "source": [
    "import wandb\n",
    "wandb.login(key=\"YOUR_API_KEY\")  # ブラウザ認可orAPIキー入力のどちらか\n",
    "!WANDB_PROJECT=bmshj2018_relu wandb login"
   ]
  },
  {
   "cell_type": "markdown",
   "metadata": {
    "id": "pyNUdCIgHcLc"
   },
   "source": [
    "## 学習スクリプト実行"
   ]
  },
  {
   "cell_type": "code",
   "execution_count": null,
   "metadata": {
    "colab": {
     "base_uri": "https://localhost:8080/"
    },
    "id": "I1D12unxJ6x1",
    "outputId": "effe4950-2ac2-44e7-cc57-db8c172f8cc3"
   },
   "outputs": [
    {
     "name": "stdout",
     "output_type": "stream",
     "text": [
      "env: PYTHONUNBUFFERED=1\n",
      "[wandb] Starting new run (id=ylc1h25s_encoder_all)\n",
      "\u001b[34m\u001b[1mwandb\u001b[0m: Currently logged in as: \u001b[33mf-matsuzawa719\u001b[0m to \u001b[32mhttps://api.wandb.ai\u001b[0m. Use \u001b[1m`wandb login --relogin`\u001b[0m to force relogin\n",
      "\u001b[34m\u001b[1mwandb\u001b[0m: \u001b[38;5;178m⢿\u001b[0m Waiting for wandb.init()...\n",
      "\u001b[34m\u001b[1mwandb\u001b[0m: \u001b[38;5;178m⣻\u001b[0m creating run (0.2s)\n",
      "\u001b[34m\u001b[1mwandb\u001b[0m: Tracking run with wandb version 0.21.3\n",
      "\u001b[34m\u001b[1mwandb\u001b[0m: Run data is saved locally in \u001b[35m\u001b[1m/content/ft_bmshj2018_coco_relu/wandb/run-20250906_094728-ylc1h25s_encoder_all\u001b[0m\n",
      "\u001b[34m\u001b[1mwandb\u001b[0m: Run \u001b[1m`wandb offline`\u001b[0m to turn off syncing.\n",
      "\u001b[34m\u001b[1mwandb\u001b[0m: Syncing run \u001b[33mylc1h25s_encoder_all\u001b[0m\n",
      "\u001b[34m\u001b[1mwandb\u001b[0m: ⭐️ View project at \u001b[34m\u001b[4mhttps://wandb.ai/f-matsuzawa719/bmshj2018_relu\u001b[0m\n",
      "\u001b[34m\u001b[1mwandb\u001b[0m: 🚀 View run at \u001b[34m\u001b[4mhttps://wandb.ai/f-matsuzawa719/bmshj2018_relu/runs/ylc1h25s_encoder_all\u001b[0m\n",
      "[train] 118287 images found\n",
      "[val] 5000 images found\n",
      "[replace_gdn_with_relu] Replaced 3 GDN(s) -> ReLU (mode='encoder')\n",
      "[recon] Saved 16 recon images to /content/drive/MyDrive/ft_bmshj2018_coco_relu/recon/enc_only/pre_e000\n",
      "train e1/10:  86% 6369/7393 [35:25<05:41,  3.00it/s, loss=0.0878, msssim=0.9032, psnr=20.06, lr=3.00e-07, amp=0]"
     ]
    }
   ],
   "source": [
    "%env PYTHONUNBUFFERED=1\n",
    "!/content/ftenv/bin/python -m src.train_finetune_relu \\\n",
    "  --coco_dir /content/data \\\n",
    "  --use_prepared true \\\n",
    "  --quality 8 --epochs 10 --batch_size 16 --lr 3e-7 \\\n",
    "  --recon_every 1 --recon_count 16 --recon_dir /content/drive/MyDrive/ft_bmshj2018_coco_relu/recon/enc_only \\\n",
    "  --save_dir /content/drive/MyDrive/ft_bmshj2018_coco_relu/checkpoints/enc_only \\\n",
    "  --wandb true --replace_parts encoder --train_scope all \\\n",
    "  --amp_warmup_steps 15000 \\\n",
    "  --lr_warmup_steps 1000 \\\n",
    "  --max_grad_norm 1.0 \\\n",
    "  --overflow_check true"
   ]
  },
  {
   "cell_type": "code",
   "execution_count": null,
   "metadata": {
    "id": "MqCHlmQsUThG"
   },
   "outputs": [],
   "source": []
  }
 ],
 "metadata": {
  "accelerator": "GPU",
  "colab": {
   "authorship_tag": "ABX9TyMnIce1KAzgStVOeTCiKkpO",
   "gpuType": "T4",
   "provenance": []
  },
  "kernelspec": {
   "display_name": "Python 3",
   "name": "python3"
  },
  "language_info": {
   "name": "python"
  }
 },
 "nbformat": 4,
 "nbformat_minor": 0
}
